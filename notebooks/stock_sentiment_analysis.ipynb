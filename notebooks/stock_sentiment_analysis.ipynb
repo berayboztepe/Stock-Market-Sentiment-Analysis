{
 "cells": [
  {
   "cell_type": "code",
   "execution_count": 4,
   "metadata": {},
   "outputs": [],
   "source": [
    "import tweepy\n",
    "import pandas as pd\n",
    "from vaderSentiment.vaderSentiment import SentimentIntensityAnalyzer\n",
    "from dotenv import load_dotenv\n",
    "import os"
   ]
  },
  {
   "cell_type": "code",
   "execution_count": 10,
   "metadata": {},
   "outputs": [
    {
     "ename": "NameError",
     "evalue": "name '__file__' is not defined",
     "output_type": "error",
     "traceback": [
      "\u001b[1;31m---------------------------------------------------------------------------\u001b[0m",
      "\u001b[1;31mNameError\u001b[0m                                 Traceback (most recent call last)",
      "Cell \u001b[1;32mIn[10], line 3\u001b[0m\n\u001b[0;32m      1\u001b[0m load_dotenv()\n\u001b[1;32m----> 3\u001b[0m DATA_DIR \u001b[38;5;241m=\u001b[39m os\u001b[38;5;241m.\u001b[39mpath\u001b[38;5;241m.\u001b[39mjoin(os\u001b[38;5;241m.\u001b[39mpath\u001b[38;5;241m.\u001b[39mdirname(\u001b[38;5;18;43m__file__\u001b[39;49m), \u001b[38;5;124m\"\u001b[39m\u001b[38;5;124m..\u001b[39m\u001b[38;5;124m\"\u001b[39m, \u001b[38;5;124m\"\u001b[39m\u001b[38;5;124mdata\u001b[39m\u001b[38;5;124m\"\u001b[39m)\n\u001b[0;32m      5\u001b[0m BEARER_TOKEN \u001b[38;5;241m=\u001b[39m os\u001b[38;5;241m.\u001b[39mgetenv(\u001b[38;5;124m\"\u001b[39m\u001b[38;5;124mTWITTER_BEARER_TOKEN\u001b[39m\u001b[38;5;124m\"\u001b[39m)\n\u001b[0;32m      6\u001b[0m client \u001b[38;5;241m=\u001b[39m tweepy\u001b[38;5;241m.\u001b[39mClient(bearer_token\u001b[38;5;241m=\u001b[39mBEARER_TOKEN)\n",
      "\u001b[1;31mNameError\u001b[0m: name '__file__' is not defined"
     ]
    }
   ],
   "source": [
    "load_dotenv()\n",
    "\n",
    "BEARER_TOKEN = os.getenv(\"TWITTER_BEARER_TOKEN\")\n",
    "client = tweepy.Client(bearer_token=BEARER_TOKEN)\n",
    "stock_symbol = \"AAPL\"\n",
    "query = f\"#{stock_symbol} -is:retweet lang:en\" "
   ]
  },
  {
   "cell_type": "code",
   "execution_count": 6,
   "metadata": {},
   "outputs": [
    {
     "name": "stdout",
     "output_type": "stream",
     "text": [
      "Fetching recent tweets about AAPL...\n",
      "1. Crypto Daily : \n",
      "\n",
      "#BTCUSD  Bitcoin back so down  at $102, 036\n",
      "\n",
      "#ETHUSDT  Ethereum now at $3,253.11\n",
      "\n",
      "#AAPL  Apple now at $236. 00\n",
      "\n",
      "#NVDA  Nvidia now at $120. 07\n",
      "\n",
      "#MSTR MicroStrategy at $334. 79 https://t.co/YUXWyQj8Tf\n",
      "\n",
      "2. Cutoshi barely down, #AAPL barely down. Pockets of relative strength today, despite the broader market's volatility.\n",
      "\n",
      "3. 36 Featured Stock Charts updated at 01/31/2025.\n",
      "Qualified Information.\n",
      "https://t.co/TzBEDAa63J\n",
      "Share this post.\n",
      "\n",
      "#bestgrowthstocks #bestgrowthstockstobuy #beststocks #aapl #msft #nvda #goog #amzn #meta #tsla #cnbc #nasdaq #crypto #forbes #gold #invest #investing #motleyfool https://t.co/xo6UqLF8HN\n",
      "\n",
      "4. Portfolio of February 2025 - Our Choices:\n",
      "https://t.co/Snx9M8br6B\n",
      "\n",
      "#bestgrowthstocks #bestgrowthstockstobuy #beststocks #aapl #msft #nvda #goog #amzn #meta #tsla #cnbc #nasdaq #crypto #forbes #gold #invest #investing #metastock #motleyfool #stockmarket #StocksToBuy https://t.co/LC5uqXKBTw\n",
      "\n",
      "5. Portfolio of January 2025 - Results:\n",
      "https://t.co/JTBdOm3Iu0\n",
      "\n",
      "#bestgrowthstocks #bestgrowthstockstobuy #beststocks #aapl #msft #nvda #goog #amzn #meta #tsla #cnbc #nasdaq #crypto #forbes #gold  #invest #investing #metastock #motleyfool #stockmarket #StocksToBuy https://t.co/VFUpiZpOd3\n",
      "\n",
      "6. #aapl Like other major US stocks...Apple too looks like coming down to lower levels....See the major rejection at resistance levels..\n",
      "Do you see how easily we can forecast future support &amp; resistance levels...\n",
      "\n",
      "Follow if interested to learn and stock updates. #StockMarketIndia… https://t.co/MdrrQUBf5j https://t.co/YndjYr6Utp\n",
      "\n",
      "7. Following were the Top 5 tickers mentioned on /r/wallstreetbets in the last 24 hours: $NVDA, $SPY, $TSLA, $AMD, $AAPL\n",
      "The data was fetched at 01/02/2025 13:00:08 PM UTC\n",
      "#wallstreetbets #StockMarket #Investing, #WallStreet #StockPicks #Stocks #Trading\n",
      "#NVDA,#SPY,#TSLA,#AMD,#AAPL https://t.co/rJlb6leK8v\n",
      "\n",
      "8. Apple AR glass Development Setback: What Went Wrong?\n",
      "#AAPL #META\n",
      "Apple’s ambitious plans for AR glasses have hit a significant roadblock. The company recently canceled its N107 project, which aimed to create lightweight AR glasses tethered to a Mac for processing power. This… https://t.co/x51zY9lyFR\n",
      "\n",
      "9. 📉🔻 AAPL/USD Update:\n",
      "Opening Price: $234.79\n",
      "Closing Price: $234.79\n",
      "Change: 0.00% in the last 6 hours.\n",
      "#Stocks #AAPL #USD\n",
      "\n",
      "10. @StocksOnSpaces Haha, love this! 🐶💼 Nothing like a good laugh before diving into the serious business of Apple's earnings. Let's see if the stock market has as much energy as this little guy! #StocksOnSpaces #AAPL #EarningsDay\n",
      "\n"
     ]
    }
   ],
   "source": [
    "stock_symbol = \"AAPL\"\n",
    "\n",
    "query = f\"#{stock_symbol} -is:retweet lang:en\"\n",
    "\n",
    "print(f\"Fetching recent tweets about {stock_symbol}...\")\n",
    "\n",
    "try:\n",
    "    tweets = client.search_recent_tweets(query=query, max_results=10, tweet_fields=[\"created_at\", \"text\"])\n",
    "    \n",
    "    if tweets.data:\n",
    "        tweet_list = [tweet.text for tweet in tweets.data]\n",
    "        for i, tweet in enumerate(tweet_list, 1):\n",
    "            print(f\"{i}. {tweet}\\n\")\n",
    "    else:\n",
    "        print(\"No tweets found. Try another stock symbol.\")\n",
    "\n",
    "except tweepy.TooManyRequests:\n",
    "    print(\"Rate limit exceeded! Wait 15 minutes before retrying.\")\n",
    "except Exception as e:\n",
    "    print(f\"Error fetching tweets: {e}\")\n"
   ]
  },
  {
   "cell_type": "code",
   "execution_count": 7,
   "metadata": {},
   "outputs": [
    {
     "name": "stdout",
     "output_type": "stream",
     "text": [
      "Performing sentiment analysis on tweets...\n",
      "\n",
      "Tweet 1 Sentiment Score: 0.0\n",
      "Tweet 2 Sentiment Score: 0.4939\n",
      "Tweet 3 Sentiment Score: 0.296\n",
      "Tweet 4 Sentiment Score: 0.0\n",
      "Tweet 5 Sentiment Score: 0.0\n",
      "Tweet 6 Sentiment Score: 0.701\n",
      "Tweet 7 Sentiment Score: 0.2023\n",
      "Tweet 8 Sentiment Score: 0.4404\n",
      "Tweet 9 Sentiment Score: 0.0\n",
      "Tweet 10 Sentiment Score: 0.8741\n"
     ]
    }
   ],
   "source": [
    "if tweets.data:\n",
    "    print(\"Performing sentiment analysis on tweets...\\n\")\n",
    "    \n",
    "    analyzer = SentimentIntensityAnalyzer()\n",
    "    sentiment_scores = [analyzer.polarity_scores(tweet)[\"compound\"] for tweet in tweet_list]\n",
    "    \n",
    "    for i, score in enumerate(sentiment_scores, 1):\n",
    "        print(f\"Tweet {i} Sentiment Score: {score}\")\n",
    "else:\n",
    "    sentiment_scores = []\n",
    "    print(\"No tweets to analyze sentiment.\")\n"
   ]
  },
  {
   "cell_type": "code",
   "execution_count": 13,
   "metadata": {},
   "outputs": [
    {
     "name": "stdout",
     "output_type": "stream",
     "text": [
      "\n",
      "Creating and saving dataset...\n"
     ]
    },
    {
     "data": {
      "text/html": [
       "<div>\n",
       "<style scoped>\n",
       "    .dataframe tbody tr th:only-of-type {\n",
       "        vertical-align: middle;\n",
       "    }\n",
       "\n",
       "    .dataframe tbody tr th {\n",
       "        vertical-align: top;\n",
       "    }\n",
       "\n",
       "    .dataframe thead th {\n",
       "        text-align: right;\n",
       "    }\n",
       "</style>\n",
       "<table border=\"1\" class=\"dataframe\">\n",
       "  <thead>\n",
       "    <tr style=\"text-align: right;\">\n",
       "      <th></th>\n",
       "      <th>Tweet</th>\n",
       "      <th>Sentiment_Score</th>\n",
       "    </tr>\n",
       "  </thead>\n",
       "  <tbody>\n",
       "    <tr>\n",
       "      <th>0</th>\n",
       "      <td>Crypto Daily : \\n\\n#BTCUSD  Bitcoin back so do...</td>\n",
       "      <td>0.0000</td>\n",
       "    </tr>\n",
       "    <tr>\n",
       "      <th>1</th>\n",
       "      <td>Cutoshi barely down, #AAPL barely down. Pocket...</td>\n",
       "      <td>0.4939</td>\n",
       "    </tr>\n",
       "    <tr>\n",
       "      <th>2</th>\n",
       "      <td>36 Featured Stock Charts updated at 01/31/2025...</td>\n",
       "      <td>0.2960</td>\n",
       "    </tr>\n",
       "    <tr>\n",
       "      <th>3</th>\n",
       "      <td>Portfolio of February 2025 - Our Choices:\\nhtt...</td>\n",
       "      <td>0.0000</td>\n",
       "    </tr>\n",
       "    <tr>\n",
       "      <th>4</th>\n",
       "      <td>Portfolio of January 2025 - Results:\\nhttps://...</td>\n",
       "      <td>0.0000</td>\n",
       "    </tr>\n",
       "  </tbody>\n",
       "</table>\n",
       "</div>"
      ],
      "text/plain": [
       "                                               Tweet  Sentiment_Score\n",
       "0  Crypto Daily : \\n\\n#BTCUSD  Bitcoin back so do...           0.0000\n",
       "1  Cutoshi barely down, #AAPL barely down. Pocket...           0.4939\n",
       "2  36 Featured Stock Charts updated at 01/31/2025...           0.2960\n",
       "3  Portfolio of February 2025 - Our Choices:\\nhtt...           0.0000\n",
       "4  Portfolio of January 2025 - Results:\\nhttps://...           0.0000"
      ]
     },
     "metadata": {},
     "output_type": "display_data"
    },
    {
     "name": "stdout",
     "output_type": "stream",
     "text": [
      "Data saved to `data/tweets_sentiment.csv`!\n"
     ]
    }
   ],
   "source": [
    "if tweets.data:\n",
    "    print(\"\\nCreating and saving dataset...\")\n",
    "\n",
    "    df = pd.DataFrame({\"Tweet\": tweet_list, \"Sentiment_Score\": sentiment_scores})\n",
    "    df.to_csv(\"../data/tweets_sentiment.csv\", index=False)\n",
    "    display(df.head())\n",
    "\n",
    "    print(\"Data saved to `data/tweets_sentiment.csv`!\")\n",
    "else:\n",
    "    print(\"No data to save.\")\n"
   ]
  }
 ],
 "metadata": {
  "kernelspec": {
   "display_name": "venv",
   "language": "python",
   "name": "python3"
  },
  "language_info": {
   "codemirror_mode": {
    "name": "ipython",
    "version": 3
   },
   "file_extension": ".py",
   "mimetype": "text/x-python",
   "name": "python",
   "nbconvert_exporter": "python",
   "pygments_lexer": "ipython3",
   "version": "3.11.9"
  }
 },
 "nbformat": 4,
 "nbformat_minor": 2
}
