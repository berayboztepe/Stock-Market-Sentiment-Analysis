{
 "cells": [
  {
   "cell_type": "code",
   "execution_count": 2,
   "metadata": {},
   "outputs": [],
   "source": [
    "import pandas as pd\n",
    "import yfinance as yf"
   ]
  },
  {
   "cell_type": "code",
   "execution_count": 17,
   "metadata": {},
   "outputs": [
    {
     "name": "stderr",
     "output_type": "stream",
     "text": [
      "[*********************100%***********************]  1 of 1 completed"
     ]
    },
    {
     "name": "stdout",
     "output_type": "stream",
     "text": [
      "📈 Fetching stock price data for AAPL from 2024-12-01 to 2025-02-01...\n",
      "📊 Fixed Stock Data Columns: Index(['Date', 'Open', 'High', 'Low', 'Close', 'Volume'], dtype='object')\n"
     ]
    },
    {
     "name": "stderr",
     "output_type": "stream",
     "text": [
      "\n"
     ]
    }
   ],
   "source": [
    "stock_symbol = \"AAPL\"\n",
    "start_date = \"2024-12-01\"\n",
    "end_date = \"2025-02-01\"\n",
    "\n",
    "print(f\"Fetching stock price data for {stock_symbol} from {start_date} to {end_date}...\")\n",
    "stock_data = yf.download(stock_symbol, start=start_date, end=end_date)\n",
    "stock_data.reset_index(inplace=True)\n",
    "\n",
    "\n",
    "stock_data.columns = [\"Date\", \"Open\", \"High\", \"Low\", \"Close\", \"Volume\"]\n",
    "stock_data[\"Date\"] = stock_data[\"Date\"].astype(str)\n",
    "\n",
    "print(\"Fixed Stock Data Columns:\", stock_data.columns)"
   ]
  },
  {
   "cell_type": "code",
   "execution_count": null,
   "metadata": {},
   "outputs": [
    {
     "name": "stdout",
     "output_type": "stream",
     "text": [
      "⚠️ Removing existing `Close` column from Sentiment Data before merging.\n",
      "✅ Data merged successfully! Sample:\n",
      "                                               Tweet  Sentiment_Score  \\\n",
      "0  Crypto Daily : \\n\\n#BTCUSD  Bitcoin back so do...           0.0000   \n",
      "1  Cutoshi barely down, #AAPL barely down. Pocket...           0.4939   \n",
      "2  36 Featured Stock Charts updated at 01/31/2025...           0.2960   \n",
      "3  Portfolio of February 2025 - Our Choices:\\nhtt...           0.0000   \n",
      "4  Portfolio of January 2025 - Results:\\nhttps://...           0.0000   \n",
      "\n",
      "         Date  Stock Movement        Open        High         Low       Close  \\\n",
      "0  2025-01-23               0  223.660004  227.029999  222.300003  224.740005   \n",
      "1  2025-01-24               0  222.779999  225.630005  221.410004  224.779999   \n",
      "2  2025-01-25               0  222.779999  225.630005  221.410004  224.779999   \n",
      "3  2025-01-26               0  222.779999  225.630005  221.410004  224.779999   \n",
      "4  2025-01-27               1  229.860001  232.149994  223.979996  224.020004   \n",
      "\n",
      "       Volume  Close_Change  Price_Volatility  Sentiment_MA3  Tweet_Count  \n",
      "0  60234800.0      0.000000          2.104652       0.000000            1  \n",
      "1  54697900.0      0.039993          1.877392       0.493900            1  \n",
      "2  54697900.0      0.000000          1.877392       0.263300            1  \n",
      "3  54697900.0      0.000000          1.877392       0.263300            1  \n",
      "4  94863400.0     -0.759995          3.646995       0.098667            1  \n"
     ]
    },
    {
     "name": "stderr",
     "output_type": "stream",
     "text": [
      "C:\\Users\\beray\\AppData\\Local\\Temp\\ipykernel_10628\\2018476529.py:23: FutureWarning: DataFrame.fillna with 'method' is deprecated and will raise in a future version. Use obj.ffill() or obj.bfill() instead.\n",
      "  df_merged.fillna(method=\"ffill\", inplace=True)\n"
     ]
    }
   ],
   "source": [
    "sentiment_data = pd.read_csv(\"../data/sentiment_stock_data.csv\")\n",
    "\n",
    "if \"Date\" not in sentiment_data.columns:\n",
    "    print(\"No Date column found in Sentiment Data. Assigning estimated dates...\")\n",
    "    sentiment_data[\"Date\"] = pd.date_range(end=pd.Timestamp.today(), periods=len(sentiment_data), freq=\"D\")\n",
    "\n",
    "sentiment_data[\"Date\"] = pd.to_datetime(sentiment_data[\"Date\"]).dt.strftime(\"%Y-%m-%d\")\n",
    "\n",
    "if \"Close\" in sentiment_data.columns:\n",
    "    print(\"Removing existing `Close` column from Sentiment Data before merging.\")\n",
    "    sentiment_data.drop(columns=[\"Close\"], inplace=True)\n",
    "\n",
    "\n",
    "df_merged = pd.merge(sentiment_data, stock_data, on=\"Date\", how=\"left\")\n",
    "df_merged.rename(columns={\"Close_y\": \"Close\"}, inplace=True)\n",
    "df_merged.drop(columns=[\"Close_x\"], inplace=True, errors=\"ignore\")\n",
    "df_merged.fillna(method=\"ffill\", inplace=True)\n",
    "df_merged[\"Close_Change\"] = df_merged[\"Close\"].diff().fillna(0)\n",
    "df_merged[\"Price_Volatility\"] = ((df_merged[\"High\"] - df_merged[\"Low\"]) / df_merged[\"Close\"]) * 100\n",
    "df_merged[\"Tweet_Count\"] = df_merged.groupby(\"Date\")[\"Tweet\"].transform(\"count\")\n",
    "\n",
    "print(\"Data merged successfully! Sample:\")\n",
    "print(df_merged.head())"
   ]
  },
  {
   "cell_type": "code",
   "execution_count": 22,
   "metadata": {},
   "outputs": [
    {
     "name": "stdout",
     "output_type": "stream",
     "text": [
      "Final Cleaned CSV Saved Successfully!\n"
     ]
    }
   ],
   "source": [
    "df_merged[\"Date\"] = pd.to_datetime(df_merged[\"Date\"])\n",
    "df_merged = df_merged[df_merged[\"Date\"].dt.weekday < 5]\n",
    "df_merged[\"Sentiment_MA3\"] = df_merged[\"Sentiment_Score\"].rolling(3, min_periods=1).mean()\n",
    "df_merged[\"Next_Close\"] = df_merged[\"Close\"].shift(-1)\n",
    "df_merged[\"Stock Movement\"] = (df_merged[\"Next_Close\"] > df_merged[\"Close\"]).astype(int)\n",
    "df_merged.drop(columns=[\"Next_Close\"], inplace=True)\n",
    "\n",
    "df_merged.to_csv(\"../data/final_stock_sentiment.csv\", index=False)\n",
    "\n",
    "print(\"Final Cleaned CSV Saved Successfully!\")\n"
   ]
  }
 ],
 "metadata": {
  "kernelspec": {
   "display_name": "venv",
   "language": "python",
   "name": "python3"
  },
  "language_info": {
   "codemirror_mode": {
    "name": "ipython",
    "version": 3
   },
   "file_extension": ".py",
   "mimetype": "text/x-python",
   "name": "python",
   "nbconvert_exporter": "python",
   "pygments_lexer": "ipython3",
   "version": "3.11.9"
  }
 },
 "nbformat": 4,
 "nbformat_minor": 2
}
